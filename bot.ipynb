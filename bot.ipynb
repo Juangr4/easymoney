{
 "cells": [
  {
   "cell_type": "code",
   "execution_count": 2,
   "metadata": {},
   "outputs": [],
   "source": [
    "import tensorflow as tf\n",
    "\n",
    "IMAGE_WIDTH = 40\n",
    "IMAGE_HEIGHT = 40\n",
    "BATCH_SIZE = 40\n",
    "NUM_CLASSES = 3\n",
    "\n",
    "NUM_EPOCHS = 10"
   ]
  },
  {
   "cell_type": "code",
   "execution_count": 3,
   "metadata": {},
   "outputs": [
    {
     "name": "stdout",
     "output_type": "stream",
     "text": [
      "Found 1148 files belonging to 3 classes.\n"
     ]
    }
   ],
   "source": [
    "pure_dataset = tf.keras.utils.image_dataset_from_directory('responses/', seed=123, image_size=(40, 40), batch_size=1)\n",
    "dataset = pure_dataset.map(lambda x, y: (tf.image.rgb_to_grayscale(x) / 255.0, tf.one_hot(y, NUM_CLASSES)))"
   ]
  },
  {
   "cell_type": "code",
   "execution_count": 4,
   "metadata": {},
   "outputs": [],
   "source": [
    "model = tf.keras.Sequential([\n",
    "    tf.keras.layers.Conv2D(32, 3, activation='relu'),\n",
    "    tf.keras.layers.MaxPooling2D(),\n",
    "    tf.keras.layers.Conv2D(32, 3, activation='relu'),\n",
    "    tf.keras.layers.MaxPooling2D(),\n",
    "    tf.keras.layers.Conv2D(32, 3, activation='relu'),\n",
    "    tf.keras.layers.MaxPooling2D(),\n",
    "    tf.keras.layers.Flatten(),\n",
    "    tf.keras.layers.Dense(128, activation='relu'),\n",
    "    tf.keras.layers.Dense(3, activation='softmax')\n",
    "])\n",
    "\n",
    "model.compile(optimizer='adam', loss=tf.losses.CategoricalCrossentropy(), metrics=['accuracy'])"
   ]
  },
  {
   "cell_type": "code",
   "execution_count": 5,
   "metadata": {},
   "outputs": [
    {
     "name": "stdout",
     "output_type": "stream",
     "text": [
      "Epoch 1/10\n",
      "1148/1148 [==============================] - 4s 3ms/step - loss: 0.3080 - accuracy: 0.8615\n",
      "Epoch 2/10\n",
      "1148/1148 [==============================] - 4s 3ms/step - loss: 0.0366 - accuracy: 0.9956\n",
      "Epoch 3/10\n",
      "1148/1148 [==============================] - 3s 3ms/step - loss: 0.0288 - accuracy: 0.9948\n",
      "Epoch 4/10\n",
      "1148/1148 [==============================] - 3s 3ms/step - loss: 0.0377 - accuracy: 0.9922\n",
      "Epoch 5/10\n",
      "1148/1148 [==============================] - 3s 3ms/step - loss: 0.0146 - accuracy: 0.9965\n",
      "Epoch 6/10\n",
      "1148/1148 [==============================] - 3s 3ms/step - loss: 0.0329 - accuracy: 0.9956\n",
      "Epoch 7/10\n",
      "1148/1148 [==============================] - 3s 3ms/step - loss: 0.0256 - accuracy: 0.9965\n",
      "Epoch 8/10\n",
      "1148/1148 [==============================] - 3s 3ms/step - loss: 0.0267 - accuracy: 0.9948\n",
      "Epoch 9/10\n",
      "1148/1148 [==============================] - 3s 3ms/step - loss: 0.0169 - accuracy: 0.9965\n",
      "Epoch 10/10\n",
      "1148/1148 [==============================] - 3s 3ms/step - loss: 0.0181 - accuracy: 0.9956\n"
     ]
    }
   ],
   "source": [
    "history = model.fit(dataset, epochs=NUM_EPOCHS)"
   ]
  },
  {
   "cell_type": "code",
   "execution_count": 6,
   "metadata": {},
   "outputs": [
    {
     "name": "stderr",
     "output_type": "stream",
     "text": [
      "WARNING:absl:Found untraced functions such as _jit_compiled_convolution_op, _jit_compiled_convolution_op, _jit_compiled_convolution_op while saving (showing 3 of 3). These functions will not be directly callable after loading.\n"
     ]
    },
    {
     "name": "stdout",
     "output_type": "stream",
     "text": [
      "INFO:tensorflow:Assets written to: ./saved_model\\assets\n"
     ]
    },
    {
     "name": "stderr",
     "output_type": "stream",
     "text": [
      "INFO:tensorflow:Assets written to: ./saved_model\\assets\n"
     ]
    }
   ],
   "source": [
    "tf.saved_model.save(model, './saved_model')"
   ]
  }
 ],
 "metadata": {
  "kernelspec": {
   "display_name": "Python 3.10.4 ('.env': venv)",
   "language": "python",
   "name": "python3"
  },
  "language_info": {
   "codemirror_mode": {
    "name": "ipython",
    "version": 3
   },
   "file_extension": ".py",
   "mimetype": "text/x-python",
   "name": "python",
   "nbconvert_exporter": "python",
   "pygments_lexer": "ipython3",
   "version": "3.10.4"
  },
  "orig_nbformat": 4,
  "vscode": {
   "interpreter": {
    "hash": "c723ea95578b102c75de2d86b23d7025eb5e907e38c269aca4b2dac00a8c0d58"
   }
  }
 },
 "nbformat": 4,
 "nbformat_minor": 2
}
