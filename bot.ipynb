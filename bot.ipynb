{
 "cells": [
  {
   "cell_type": "code",
   "execution_count": 5,
   "metadata": {},
   "outputs": [],
   "source": [
    "import tensorflow as tf\n",
    "\n",
    "IMAGE_WIDTH = 40\n",
    "IMAGE_HEIGHT = 40\n",
    "BATCH_SIZE = 128\n",
    "NUM_CLASSES = 3\n",
    "\n",
    "NUM_EPOCHS = 20"
   ]
  },
  {
   "cell_type": "code",
   "execution_count": 6,
   "metadata": {},
   "outputs": [
    {
     "name": "stdout",
     "output_type": "stream",
     "text": [
      "Found 2663 files belonging to 3 classes.\n"
     ]
    }
   ],
   "source": [
    "# Upgrade this part when loading dataset to use some to test\n",
    "pure_dataset = tf.keras.utils.image_dataset_from_directory('dataset/', seed=123, image_size=(40, 40), batch_size=1)\n",
    "dataset = pure_dataset.map(lambda x, y: (tf.image.rgb_to_grayscale(x) / 255.0, tf.one_hot(y, NUM_CLASSES)))"
   ]
  },
  {
   "cell_type": "code",
   "execution_count": 7,
   "metadata": {},
   "outputs": [],
   "source": [
    "model = tf.keras.Sequential([\n",
    "    tf.keras.layers.Conv2D(32, 3, activation='relu'),\n",
    "    tf.keras.layers.MaxPooling2D(),\n",
    "    tf.keras.layers.Conv2D(32, 3, activation='relu'),\n",
    "    tf.keras.layers.MaxPooling2D(),\n",
    "    tf.keras.layers.Conv2D(32, 3, activation='relu'),\n",
    "    tf.keras.layers.MaxPooling2D(),\n",
    "    tf.keras.layers.Flatten(),\n",
    "    tf.keras.layers.Dense(128, activation='relu'),\n",
    "    tf.keras.layers.Dense(3, activation='softmax')\n",
    "])\n",
    "\n",
    "model.compile(optimizer='adam', loss=tf.losses.CategoricalCrossentropy(), metrics=['accuracy'])"
   ]
  },
  {
   "cell_type": "code",
   "execution_count": 8,
   "metadata": {},
   "outputs": [
    {
     "name": "stdout",
     "output_type": "stream",
     "text": [
      "Epoch 1/20\n",
      "2663/2663 [==============================] - 10s 4ms/step - loss: 0.3779 - accuracy: 0.8243\n",
      "Epoch 2/20\n",
      "2663/2663 [==============================] - 9s 3ms/step - loss: 0.0569 - accuracy: 0.9887\n",
      "Epoch 3/20\n",
      "2663/2663 [==============================] - 8s 3ms/step - loss: 0.0451 - accuracy: 0.9891\n",
      "Epoch 4/20\n",
      "2663/2663 [==============================] - 7s 3ms/step - loss: 0.0299 - accuracy: 0.9944\n",
      "Epoch 5/20\n",
      "2663/2663 [==============================] - 7s 3ms/step - loss: 0.0349 - accuracy: 0.9929\n",
      "Epoch 6/20\n",
      "2663/2663 [==============================] - 8s 3ms/step - loss: 0.0219 - accuracy: 0.9947\n",
      "Epoch 7/20\n",
      "2663/2663 [==============================] - 8s 3ms/step - loss: 0.0172 - accuracy: 0.9962\n",
      "Epoch 8/20\n",
      "2663/2663 [==============================] - 7s 3ms/step - loss: 0.0463 - accuracy: 0.9902\n",
      "Epoch 9/20\n",
      "2663/2663 [==============================] - 7s 3ms/step - loss: 0.0289 - accuracy: 0.9932\n",
      "Epoch 10/20\n",
      "2663/2663 [==============================] - 7s 3ms/step - loss: 0.0185 - accuracy: 0.9951\n",
      "Epoch 11/20\n",
      "2663/2663 [==============================] - 7s 3ms/step - loss: 0.0212 - accuracy: 0.9944\n",
      "Epoch 12/20\n",
      "2663/2663 [==============================] - 7s 3ms/step - loss: 0.0240 - accuracy: 0.9944\n",
      "Epoch 13/20\n",
      "2663/2663 [==============================] - 7s 3ms/step - loss: 0.0198 - accuracy: 0.9970\n",
      "Epoch 14/20\n",
      "2663/2663 [==============================] - 8s 3ms/step - loss: 0.0109 - accuracy: 0.9977\n",
      "Epoch 15/20\n",
      "2663/2663 [==============================] - 9s 3ms/step - loss: 0.0134 - accuracy: 0.9974\n",
      "Epoch 16/20\n",
      "2663/2663 [==============================] - 9s 3ms/step - loss: 0.0199 - accuracy: 0.9947\n",
      "Epoch 17/20\n",
      "2663/2663 [==============================] - 14s 5ms/step - loss: 0.0059 - accuracy: 0.9977\n",
      "Epoch 18/20\n",
      "2663/2663 [==============================] - 17s 7ms/step - loss: 0.0134 - accuracy: 0.9955\n",
      "Epoch 19/20\n",
      "2663/2663 [==============================] - 11s 4ms/step - loss: 0.0195 - accuracy: 0.9962\n",
      "Epoch 20/20\n",
      "2663/2663 [==============================] - 13s 5ms/step - loss: 0.0229 - accuracy: 0.9981\n"
     ]
    }
   ],
   "source": [
    "history = model.fit(dataset, epochs=NUM_EPOCHS)"
   ]
  },
  {
   "cell_type": "code",
   "execution_count": 9,
   "metadata": {},
   "outputs": [
    {
     "name": "stderr",
     "output_type": "stream",
     "text": [
      "WARNING:absl:Found untraced functions such as _jit_compiled_convolution_op, _jit_compiled_convolution_op, _jit_compiled_convolution_op while saving (showing 3 of 3). These functions will not be directly callable after loading.\n"
     ]
    },
    {
     "name": "stdout",
     "output_type": "stream",
     "text": [
      "INFO:tensorflow:Assets written to: ./saved_model\\assets\n"
     ]
    },
    {
     "name": "stderr",
     "output_type": "stream",
     "text": [
      "INFO:tensorflow:Assets written to: ./saved_model\\assets\n"
     ]
    }
   ],
   "source": [
    "tf.saved_model.save(model, './saved_model')"
   ]
  },
  {
   "cell_type": "code",
   "execution_count": null,
   "metadata": {},
   "outputs": [],
   "source": [
    "# Convert to tfjs_model\n",
    "!tensorflowjs_converter ./saved_model tfjs_model"
   ]
  }
 ],
 "metadata": {
  "kernelspec": {
   "display_name": "Python 3.10.4 ('.env': venv)",
   "language": "python",
   "name": "python3"
  },
  "language_info": {
   "codemirror_mode": {
    "name": "ipython",
    "version": 3
   },
   "file_extension": ".py",
   "mimetype": "text/x-python",
   "name": "python",
   "nbconvert_exporter": "python",
   "pygments_lexer": "ipython3",
   "version": "3.10.4"
  },
  "orig_nbformat": 4,
  "vscode": {
   "interpreter": {
    "hash": "c723ea95578b102c75de2d86b23d7025eb5e907e38c269aca4b2dac00a8c0d58"
   }
  }
 },
 "nbformat": 4,
 "nbformat_minor": 2
}
